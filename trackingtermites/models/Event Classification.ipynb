{
 "cells": [
  {
   "cell_type": "markdown",
   "metadata": {},
   "source": [
    "## Event Classification"
   ]
  },
  {
   "cell_type": "markdown",
   "metadata": {},
   "source": [
    "#### Import Packages"
   ]
  },
  {
   "cell_type": "code",
   "execution_count": 1,
   "metadata": {},
   "outputs": [],
   "source": [
    "%matplotlib inline\n",
    "\n",
    "import warnings\n",
    "warnings.filterwarnings(\"ignore\")\n",
    "\n",
    "import glob\n",
    "import matplotlib.pyplot as plt\n",
    "import numpy as np\n",
    "import skimage.io as io\n",
    "\n",
    "from sklearn.metrics import confusion_matrix, precision_score, recall_score, classification_report, accuracy_score\n",
    "from sklearn.preprocessing import StandardScaler\n",
    "from sklearn.model_selection import ShuffleSplit, cross_val_score, cross_val_predict, train_test_split, RandomizedSearchCV\n",
    "from sklearn.neural_network import MLPClassifier\n",
    "from sklearn.ensemble import RandomForestClassifier\n",
    "from sklearn.svm import SVC\n",
    "from sklearn.neighbors import KNeighborsClassifier\n",
    "from sklearn.externals import joblib"
   ]
  },
  {
   "cell_type": "markdown",
   "metadata": {},
   "source": [
    "#### Load Datasets"
   ]
  },
  {
   "cell_type": "markdown",
   "metadata": {},
   "source": [
    "First we load the images from the label folders:"
   ]
  },
  {
   "cell_type": "code",
   "execution_count": 2,
   "metadata": {},
   "outputs": [],
   "source": [
    "head_head = io.ImageCollection('../data/Dataset/head-head/*.jpg')\n",
    "regular_encounter = io.ImageCollection('../data/Dataset/regular-encounter/*.jpg')"
   ]
  },
  {
   "cell_type": "markdown",
   "metadata": {},
   "source": [
    "You can check if everything is alright by inspecting the first element of each image collection:"
   ]
  },
  {
   "cell_type": "code",
   "execution_count": 3,
   "metadata": {},
   "outputs": [
    {
     "data": {
      "image/png": "[encoded data removed]",
      "text/plain": [
       "<matplotlib.figure.Figure at 0x7f82db3f0c50>"
      ]
     },
     "metadata": {},
     "output_type": "display_data"
    }
   ],
   "source": [
    "figure, axis = plt.subplots(1,2)\n",
    "\n",
    "axis[0].imshow(head_head[0])\n",
    "axis[0].set_title('head-head')\n",
    "axis[1].imshow(regular_encounter[0])\n",
    "axis[1].set_title('regular-encounter')\n",
    "\n",
    "plt.show()"
   ]
  },
  {
   "cell_type": "markdown",
   "metadata": {},
   "source": [
    "Now let's concatenate the images in a single matrix, our dataset:"
   ]
  },
  {
   "cell_type": "code",
   "execution_count": 4,
   "metadata": {},
   "outputs": [
    {
     "data": {
      "text/plain": [
       "(29520, 60, 60, 3)"
      ]
     },
     "execution_count": 4,
     "metadata": {},
     "output_type": "execute_result"
    }
   ],
   "source": [
    "dataset = io.ImageCollection.concatenate(np.vstack((head_head, regular_encounter)))\n",
    "dataset.shape"
   ]
  },
  {
   "cell_type": "markdown",
   "metadata": {},
   "source": [
    "And unroll each image as a single row in the dataset matrix:"
   ]
  },
  {
   "cell_type": "code",
   "execution_count": 5,
   "metadata": {},
   "outputs": [
    {
     "data": {
      "text/plain": [
       "(29520, 10800)"
      ]
     },
     "execution_count": 5,
     "metadata": {},
     "output_type": "execute_result"
    }
   ],
   "source": [
    "dataset = dataset.reshape(dataset.shape[0], -1)\n",
    "dataset.shape"
   ]
  },
  {
   "cell_type": "markdown",
   "metadata": {},
   "source": [
    "We also must create a target vector, containing the encoded class of each image:"
   ]
  },
  {
   "cell_type": "code",
   "execution_count": 6,
   "metadata": {},
   "outputs": [
    {
     "data": {
      "text/plain": [
       "(29520,)"
      ]
     },
     "execution_count": 6,
     "metadata": {},
     "output_type": "execute_result"
    }
   ],
   "source": [
    "targets = np.zeros(dataset.shape[0])\n",
    "targets[:len(head_head)] = 0\n",
    "targets[len(head_head):] = 1\n",
    "targets.shape"
   ]
  },
  {
   "cell_type": "markdown",
   "metadata": {},
   "source": [
    "Finally we have our examples and targets in separated, indexed arrays:"
   ]
  },
  {
   "cell_type": "code",
   "execution_count": 7,
   "metadata": {},
   "outputs": [],
   "source": [
    "X, y = dataset, targets"
   ]
  },
  {
   "cell_type": "markdown",
   "metadata": {},
   "source": [
    "We then shuffle the data:"
   ]
  },
  {
   "cell_type": "code",
   "execution_count": 8,
   "metadata": {},
   "outputs": [],
   "source": [
    "shuffled_indices = np.random.permutation(dataset.shape[0])\n",
    "X = X[shuffled_indices]\n",
    "y = y[shuffled_indices]"
   ]
  },
  {
   "cell_type": "markdown",
   "metadata": {},
   "source": [
    "And for later reporting purposes we separate a training and test sets, in a 80/20% ratio:"
   ]
  },
  {
   "cell_type": "code",
   "execution_count": 9,
   "metadata": {},
   "outputs": [
    {
     "data": {
      "text/plain": [
       "array([[117, 134, 124, ..., 112, 129, 119],\n",
       "       [134, 154, 143, ..., 125, 153, 141],\n",
       "       [112, 129, 119, ..., 115, 132, 122],\n",
       "       ...,\n",
       "       [113, 131, 119, ..., 119, 135, 125],\n",
       "       [ 40,  57,  51, ..., 121, 141, 130],\n",
       "       [123, 143, 132, ...,  37,  59,  47]], dtype=uint8)"
      ]
     },
     "execution_count": 9,
     "metadata": {},
     "output_type": "execute_result"
    }
   ],
   "source": [
    "X_train, X_test, y_train, y_test = train_test_split(X, y, test_size=0.2, random_state=42)\n",
    "X_train"
   ]
  },
  {
   "cell_type": "markdown",
   "metadata": {},
   "source": [
    "#### Training a Pilot Model"
   ]
  },
  {
   "cell_type": "markdown",
   "metadata": {},
   "source": [
    "To check if learning algorithms are really capable of correctly classify the termites' interactions, first we decided to train a quick and dirty model, namely a random forest tree classifier:"
   ]
  },
  {
   "cell_type": "code",
   "execution_count": 10,
   "metadata": {},
   "outputs": [
    {
     "data": {
      "text/plain": [
       "array([0.94242168, 0.9407282 , 0.94009314])"
      ]
     },
     "execution_count": 10,
     "metadata": {},
     "output_type": "execute_result"
    }
   ],
   "source": [
    "classifier = RandomForestClassifier(random_state=42, n_jobs=-1)\n",
    "shuffle_split = ShuffleSplit(n_splits=3, test_size=0.20, train_size=0.80, random_state=42)\n",
    "scores = cross_val_score(estimator=classifier, X=X_train, y=y_train, cv=shuffle_split, n_jobs=-1)\n",
    "scores"
   ]
  },
  {
   "cell_type": "markdown",
   "metadata": {},
   "source": [
    "The model clearly was able to fit the dataset, so we took this as a indication to proceed."
   ]
  },
  {
   "cell_type": "markdown",
   "metadata": {},
   "source": [
    "#### Preprocessing Data"
   ]
  },
  {
   "cell_type": "markdown",
   "metadata": {},
   "source": [
    "Many algorithms expect that the input dataset have zero mean and variance within the same order, and since these characteristics speed up the model convergence, we'll preprocess the data using mean normalization and feature scaling. We must keep the scaler object so it can be applied in new examples when predicting our events classes.\n"
   ]
  },
  {
   "cell_type": "code",
   "execution_count": 11,
   "metadata": {},
   "outputs": [],
   "source": [
    "scaler = StandardScaler(with_mean=True, with_std=True).fit(X_train)\n",
    "X_train = scaler.transform(X_train)"
   ]
  },
  {
   "cell_type": "markdown",
   "metadata": {},
   "source": [
    "#### Select The Most Promising Model"
   ]
  },
  {
   "cell_type": "markdown",
   "metadata": {},
   "source": [
    "Now we should try some models and see which is more promising:"
   ]
  },
  {
   "cell_type": "markdown",
   "metadata": {},
   "source": [
    "- Random Forest Trees"
   ]
  },
  {
   "cell_type": "code",
   "execution_count": 12,
   "metadata": {},
   "outputs": [
    {
     "name": "stdout",
     "output_type": "stream",
     "text": [
      "Scores:  [0.96649548 0.96622437 0.9654333 ]\n",
      "Mean:  0.9660510477498789\n",
      "Standard deviation:  0.0004506169229052765\n"
     ]
    }
   ],
   "source": [
    "rf_classifier = RandomForestClassifier(random_state=42)\n",
    "shuffle_split = ShuffleSplit(n_splits=3, test_size=0.20, train_size=0.80, random_state=42)\n",
    "scores = cross_val_score(estimator=rf_classifier, X=X_train, y=y_train, cv=shuffle_split, n_jobs=-1, scoring='f1')\n",
    "print('Scores: ', scores)\n",
    "print('Mean: ', scores.mean())\n",
    "print('Standard deviation: ', scores.std())"
   ]
  },
  {
   "cell_type": "markdown",
   "metadata": {},
   "source": [
    "- Neural Networks"
   ]
  },
  {
   "cell_type": "code",
   "execution_count": 13,
   "metadata": {},
   "outputs": [
    {
     "name": "stdout",
     "output_type": "stream",
     "text": [
      "Scores:  [0.97385702 0.97179299 0.97237296]\n",
      "Mean:  0.9726743229892145\n",
      "Standard deviation:  0.0008691649229541493\n"
     ]
    }
   ],
   "source": [
    "mlp_classifier = MLPClassifier(random_state=42)\n",
    "shuffle_split = ShuffleSplit(n_splits=3, test_size=0.20, train_size=0.80, random_state=42)\n",
    "scores = cross_val_score(estimator=mlp_classifier, X=X_train, y=y_train, cv=shuffle_split, n_jobs=-1, scoring='f1')\n",
    "print('Scores: ', scores)\n",
    "print('Mean: ', scores.mean())\n",
    "print('Standard deviation: ', scores.std())"
   ]
  },
  {
   "cell_type": "markdown",
   "metadata": {},
   "source": [
    "- Support Vector Machines"
   ]
  },
  {
   "cell_type": "code",
   "execution_count": 14,
   "metadata": {},
   "outputs": [
    {
     "name": "stdout",
     "output_type": "stream",
     "text": [
      "Scores:  [0.97369703 0.97513879 0.975     ]\n",
      "Mean:  0.9746119390186919\n",
      "Standard deviation:  0.0006494157194346314\n"
     ]
    }
   ],
   "source": [
    "svc_classifier = SVC(random_state=42)\n",
    "shuffle_split = ShuffleSplit(n_splits=3, test_size=0.20, train_size=0.80, random_state=42)\n",
    "scores = cross_val_score(estimator=svc_classifier, X=X_train, y=y_train, cv=shuffle_split, n_jobs=-1, scoring='f1')\n",
    "print('Scores: ', scores)\n",
    "print('Mean: ', scores.mean())\n",
    "print('Standard deviation: ', scores.std())"
   ]
  },
  {
   "cell_type": "markdown",
   "metadata": {},
   "source": [
    "- K Neighbors"
   ]
  },
  {
   "cell_type": "code",
   "execution_count": 15,
   "metadata": {},
   "outputs": [
    {
     "name": "stdout",
     "output_type": "stream",
     "text": [
      "Scores:  [0.97079482 0.97230694 0.97033846]\n",
      "Mean:  0.9711467425005696\n",
      "Standard deviation:  0.0008412740993060233\n"
     ]
    }
   ],
   "source": [
    "knn_classifier = KNeighborsClassifier()\n",
    "shuffle_split = ShuffleSplit(n_splits=3, test_size=0.20, train_size=0.80, random_state=42)\n",
    "scores = cross_val_score(estimator=knn_classifier, X=X_train, y=y_train, cv=shuffle_split, n_jobs=-1, scoring='f1')\n",
    "print('Scores: ', scores)\n",
    "print('Mean: ', scores.mean())\n",
    "print('Standard deviation: ', scores.std())"
   ]
  },
  {
   "cell_type": "markdown",
   "metadata": {},
   "source": [
    "We can see that the models achieved very similar results, but differently than the others, neural networks can be further scaled with the addition of convolutional or block layers, so it is our model of choice."
   ]
  },
  {
   "cell_type": "markdown",
   "metadata": {},
   "source": [
    "\n",
    "#### Model Fine Tuning"
   ]
  },
  {
   "cell_type": "markdown",
   "metadata": {},
   "source": [
    "Since we've selected our model, now we can fiddle with hyperparameters."
   ]
  },
  {
   "cell_type": "code",
   "execution_count": 16,
   "metadata": {},
   "outputs": [],
   "source": [
    "parameters = {\n",
    "                \"hidden_layer_sizes\": [(100,), (300,), (500,)],\n",
    "                \"activation\": ['relu', 'logistic'],\n",
    "                \"solver\": ['sgd', 'adam'],\n",
    "                \"alpha\": [0.0001, 0.0003, 0.001, 0.003, 0.01, 0.03, 0.1, 0.3, 1],\n",
    "                \"learning_rate\": ['constant', 'adaptive'],\n",
    "                \"max_iter\": [100, 300, 500]\n",
    "             }"
   ]
  },
  {
   "cell_type": "code",
   "execution_count": 17,
   "metadata": {},
   "outputs": [
    {
     "data": {
      "text/plain": [
       "RandomizedSearchCV(cv=None, error_score='raise',\n",
       "          estimator=MLPClassifier(activation='relu', alpha=0.0001, batch_size='auto', beta_1=0.9,\n",
       "       beta_2=0.999, early_stopping=False, epsilon=1e-08,\n",
       "       hidden_layer_sizes=(100,), learning_rate='constant',\n",
       "       learning_rate_init=0.001, max_iter=200, momentum=0.9,\n",
       "       nesterovs_momentum=True, power_t=0.5, random_state=None,\n",
       "       shuffle=True, solver='adam', tol=0.0001, validation_fraction=0.1,\n",
       "       verbose=False, warm_start=False),\n",
       "          fit_params=None, iid=True, n_iter=25, n_jobs=1,\n",
       "          param_distributions={'hidden_layer_sizes': [(100,), (300,), (500,)], 'learning_rate': ['constant', 'adaptive'], 'solver': ['sgd', 'adam'], 'activation': ['relu', 'logistic'], 'max_iter': [100, 300, 500], 'alpha': [0.0001, 0.0003, 0.001, 0.003, 0.01, 0.03, 0.1, 0.3, 1]},\n",
       "          pre_dispatch='2*n_jobs', random_state=42, refit=True,\n",
       "          return_train_score='warn', scoring='f1', verbose=0)"
      ]
     },
     "execution_count": 17,
     "metadata": {},
     "output_type": "execute_result"
    }
   ],
   "source": [
    "random_search = RandomizedSearchCV(MLPClassifier(), parameters, n_iter=25, scoring='f1', random_state=42)\n",
    "random_search.fit(X_train, y_train)"
   ]
  },
  {
   "cell_type": "code",
   "execution_count": 18,
   "metadata": {},
   "outputs": [
    {
     "data": {
      "text/plain": [
       "{'mean_fit_time': array([  51.89137006,  340.6829687 ,   67.86933057,  309.52832508,\n",
       "         268.07335997, 2145.28114247,   44.31550574,  136.15344747,\n",
       "         149.63080382,  242.67553258,   90.10589306,  244.13095864,\n",
       "         304.44028799,   82.0243063 ,  212.41864125,  283.05657307,\n",
       "         812.35609325, 3156.92314967,  234.46508447,  338.01064229,\n",
       "        2129.43998837,  208.15853039,  269.91388965,  623.00492175,\n",
       "        3403.37199855]),\n",
       " 'mean_score_time': array([0.65116318, 0.31893373, 0.64492138, 0.93030858, 0.31555351,\n",
       "        0.65087485, 0.31848033, 0.58336576, 0.58403254, 0.78467607,\n",
       "        0.92250911, 0.79435674, 0.82308586, 0.32975864, 0.96424166,\n",
       "        0.81133024, 0.34736721, 0.64045684, 0.84826835, 0.3154184 ,\n",
       "        0.62980159, 0.8142399 , 0.65080643, 0.59462245, 0.94643156]),\n",
       " 'mean_test_score': array([0.9548677 , 0.97571875, 0.96322772, 0.97551658, 0.97524358,\n",
       "        0.9765541 , 0.96837828, 0.97352692, 0.97025854, 0.96649514,\n",
       "        0.96461523, 0.96761816, 0.97129903, 0.97189349, 0.97595957,\n",
       "        0.96885838, 0.97640016, 0.97717974, 0.97362213, 0.9757837 ,\n",
       "        0.97662295, 0.97133052, 0.97629356, 0.97631054, 0.97680861]),\n",
       " 'mean_train_score': array([0.9600184 , 0.99988869, 0.97119892, 0.99715828, 0.99969084,\n",
       "        0.99862793, 0.98979686, 0.99525574, 0.99186168, 0.98380998,\n",
       "        0.9712627 , 0.98434356, 0.9919335 , 0.99564823, 0.99612929,\n",
       "        0.9895274 , 0.99771444, 0.99885038, 0.99525418, 0.9998887 ,\n",
       "        0.99864024, 0.99329013, 0.99788647, 0.99967853, 0.99867691]),\n",
       " 'param_activation': masked_array(data=['logistic', 'relu', 'logistic', 'logistic', 'relu',\n",
       "                    'logistic', 'relu', 'relu', 'relu', 'relu', 'logistic',\n",
       "                    'relu', 'relu', 'relu', 'logistic', 'relu', 'logistic',\n",
       "                    'logistic', 'relu', 'relu', 'logistic', 'relu',\n",
       "                    'logistic', 'relu', 'logistic'],\n",
       "              mask=[False, False, False, False, False, False, False, False,\n",
       "                    False, False, False, False, False, False, False, False,\n",
       "                    False, False, False, False, False, False, False, False,\n",
       "                    False],\n",
       "        fill_value='?',\n",
       "             dtype=object),\n",
       " 'param_alpha': masked_array(data=[1, 0.1, 0.3, 0.001, 0.001, 0.003, 0.03, 0.003, 0.1,\n",
       "                    0.3, 0.3, 0.3, 0.1, 0.001, 0.003, 0.1, 0.0003, 0.3,\n",
       "                    0.0003, 0.0001, 0.0001, 0.0003, 0.0001, 0.0003, 0.03],\n",
       "              mask=[False, False, False, False, False, False, False, False,\n",
       "                    False, False, False, False, False, False, False, False,\n",
       "                    False, False, False, False, False, False, False, False,\n",
       "                    False],\n",
       "        fill_value='?',\n",
       "             dtype=object),\n",
       " 'param_hidden_layer_sizes': masked_array(data=[(300,), (100,), (300,), (500,), (100,), (300,), (100,),\n",
       "                    (300,), (300,), (500,), (500,), (500,), (500,), (100,),\n",
       "                    (500,), (500,), (100,), (300,), (500,), (100,), (300,),\n",
       "                    (500,), (300,), (300,), (500,)],\n",
       "              mask=[False, False, False, False, False, False, False, False,\n",
       "                    False, False, False, False, False, False, False, False,\n",
       "                    False, False, False, False, False, False, False, False,\n",
       "                    False],\n",
       "        fill_value='?',\n",
       "             dtype=object),\n",
       " 'param_learning_rate': masked_array(data=['adaptive', 'constant', 'constant', 'adaptive',\n",
       "                    'constant', 'constant', 'constant', 'adaptive',\n",
       "                    'constant', 'constant', 'constant', 'constant',\n",
       "                    'adaptive', 'adaptive', 'adaptive', 'adaptive',\n",
       "                    'constant', 'adaptive', 'adaptive', 'adaptive',\n",
       "                    'constant', 'constant', 'constant', 'adaptive',\n",
       "                    'constant'],\n",
       "              mask=[False, False, False, False, False, False, False, False,\n",
       "                    False, False, False, False, False, False, False, False,\n",
       "                    False, False, False, False, False, False, False, False,\n",
       "                    False],\n",
       "        fill_value='?',\n",
       "             dtype=object),\n",
       " 'param_max_iter': masked_array(data=[500, 500, 500, 300, 100, 500, 100, 500, 300, 100, 500,\n",
       "                    500, 300, 300, 100, 100, 300, 500, 300, 500, 500, 300,\n",
       "                    500, 100, 500],\n",
       "              mask=[False, False, False, False, False, False, False, False,\n",
       "                    False, False, False, False, False, False, False, False,\n",
       "                    False, False, False, False, False, False, False, False,\n",
       "                    False],\n",
       "        fill_value='?',\n",
       "             dtype=object),\n",
       " 'param_solver': masked_array(data=['adam', 'sgd', 'adam', 'adam', 'sgd', 'sgd', 'adam',\n",
       "                    'adam', 'adam', 'adam', 'adam', 'adam', 'adam', 'adam',\n",
       "                    'adam', 'adam', 'sgd', 'sgd', 'adam', 'sgd', 'sgd',\n",
       "                    'adam', 'adam', 'sgd', 'sgd'],\n",
       "              mask=[False, False, False, False, False, False, False, False,\n",
       "                    False, False, False, False, False, False, False, False,\n",
       "                    False, False, False, False, False, False, False, False,\n",
       "                    False],\n",
       "        fill_value='?',\n",
       "             dtype=object),\n",
       " 'params': [{'activation': 'logistic',\n",
       "   'alpha': 1,\n",
       "   'hidden_layer_sizes': (300,),\n",
       "   'learning_rate': 'adaptive',\n",
       "   'max_iter': 500,\n",
       "   'solver': 'adam'},\n",
       "  {'activation': 'relu',\n",
       "   'alpha': 0.1,\n",
       "   'hidden_layer_sizes': (100,),\n",
       "   'learning_rate': 'constant',\n",
       "   'max_iter': 500,\n",
       "   'solver': 'sgd'},\n",
       "  {'activation': 'logistic',\n",
       "   'alpha': 0.3,\n",
       "   'hidden_layer_sizes': (300,),\n",
       "   'learning_rate': 'constant',\n",
       "   'max_iter': 500,\n",
       "   'solver': 'adam'},\n",
       "  {'activation': 'logistic',\n",
       "   'alpha': 0.001,\n",
       "   'hidden_layer_sizes': (500,),\n",
       "   'learning_rate': 'adaptive',\n",
       "   'max_iter': 300,\n",
       "   'solver': 'adam'},\n",
       "  {'activation': 'relu',\n",
       "   'alpha': 0.001,\n",
       "   'hidden_layer_sizes': (100,),\n",
       "   'learning_rate': 'constant',\n",
       "   'max_iter': 100,\n",
       "   'solver': 'sgd'},\n",
       "  {'activation': 'logistic',\n",
       "   'alpha': 0.003,\n",
       "   'hidden_layer_sizes': (300,),\n",
       "   'learning_rate': 'constant',\n",
       "   'max_iter': 500,\n",
       "   'solver': 'sgd'},\n",
       "  {'activation': 'relu',\n",
       "   'alpha': 0.03,\n",
       "   'hidden_layer_sizes': (100,),\n",
       "   'learning_rate': 'constant',\n",
       "   'max_iter': 100,\n",
       "   'solver': 'adam'},\n",
       "  {'activation': 'relu',\n",
       "   'alpha': 0.003,\n",
       "   'hidden_layer_sizes': (300,),\n",
       "   'learning_rate': 'adaptive',\n",
       "   'max_iter': 500,\n",
       "   'solver': 'adam'},\n",
       "  {'activation': 'relu',\n",
       "   'alpha': 0.1,\n",
       "   'hidden_layer_sizes': (300,),\n",
       "   'learning_rate': 'constant',\n",
       "   'max_iter': 300,\n",
       "   'solver': 'adam'},\n",
       "  {'activation': 'relu',\n",
       "   'alpha': 0.3,\n",
       "   'hidden_layer_sizes': (500,),\n",
       "   'learning_rate': 'constant',\n",
       "   'max_iter': 100,\n",
       "   'solver': 'adam'},\n",
       "  {'activation': 'logistic',\n",
       "   'alpha': 0.3,\n",
       "   'hidden_layer_sizes': (500,),\n",
       "   'learning_rate': 'constant',\n",
       "   'max_iter': 500,\n",
       "   'solver': 'adam'},\n",
       "  {'activation': 'relu',\n",
       "   'alpha': 0.3,\n",
       "   'hidden_layer_sizes': (500,),\n",
       "   'learning_rate': 'constant',\n",
       "   'max_iter': 500,\n",
       "   'solver': 'adam'},\n",
       "  {'activation': 'relu',\n",
       "   'alpha': 0.1,\n",
       "   'hidden_layer_sizes': (500,),\n",
       "   'learning_rate': 'adaptive',\n",
       "   'max_iter': 300,\n",
       "   'solver': 'adam'},\n",
       "  {'activation': 'relu',\n",
       "   'alpha': 0.001,\n",
       "   'hidden_layer_sizes': (100,),\n",
       "   'learning_rate': 'adaptive',\n",
       "   'max_iter': 300,\n",
       "   'solver': 'adam'},\n",
       "  {'activation': 'logistic',\n",
       "   'alpha': 0.003,\n",
       "   'hidden_layer_sizes': (500,),\n",
       "   'learning_rate': 'adaptive',\n",
       "   'max_iter': 100,\n",
       "   'solver': 'adam'},\n",
       "  {'activation': 'relu',\n",
       "   'alpha': 0.1,\n",
       "   'hidden_layer_sizes': (500,),\n",
       "   'learning_rate': 'adaptive',\n",
       "   'max_iter': 100,\n",
       "   'solver': 'adam'},\n",
       "  {'activation': 'logistic',\n",
       "   'alpha': 0.0003,\n",
       "   'hidden_layer_sizes': (100,),\n",
       "   'learning_rate': 'constant',\n",
       "   'max_iter': 300,\n",
       "   'solver': 'sgd'},\n",
       "  {'activation': 'logistic',\n",
       "   'alpha': 0.3,\n",
       "   'hidden_layer_sizes': (300,),\n",
       "   'learning_rate': 'adaptive',\n",
       "   'max_iter': 500,\n",
       "   'solver': 'sgd'},\n",
       "  {'activation': 'relu',\n",
       "   'alpha': 0.0003,\n",
       "   'hidden_layer_sizes': (500,),\n",
       "   'learning_rate': 'adaptive',\n",
       "   'max_iter': 300,\n",
       "   'solver': 'adam'},\n",
       "  {'activation': 'relu',\n",
       "   'alpha': 0.0001,\n",
       "   'hidden_layer_sizes': (100,),\n",
       "   'learning_rate': 'adaptive',\n",
       "   'max_iter': 500,\n",
       "   'solver': 'sgd'},\n",
       "  {'activation': 'logistic',\n",
       "   'alpha': 0.0001,\n",
       "   'hidden_layer_sizes': (300,),\n",
       "   'learning_rate': 'constant',\n",
       "   'max_iter': 500,\n",
       "   'solver': 'sgd'},\n",
       "  {'activation': 'relu',\n",
       "   'alpha': 0.0003,\n",
       "   'hidden_layer_sizes': (500,),\n",
       "   'learning_rate': 'constant',\n",
       "   'max_iter': 300,\n",
       "   'solver': 'adam'},\n",
       "  {'activation': 'logistic',\n",
       "   'alpha': 0.0001,\n",
       "   'hidden_layer_sizes': (300,),\n",
       "   'learning_rate': 'constant',\n",
       "   'max_iter': 500,\n",
       "   'solver': 'adam'},\n",
       "  {'activation': 'relu',\n",
       "   'alpha': 0.0003,\n",
       "   'hidden_layer_sizes': (300,),\n",
       "   'learning_rate': 'adaptive',\n",
       "   'max_iter': 100,\n",
       "   'solver': 'sgd'},\n",
       "  {'activation': 'logistic',\n",
       "   'alpha': 0.03,\n",
       "   'hidden_layer_sizes': (500,),\n",
       "   'learning_rate': 'constant',\n",
       "   'max_iter': 500,\n",
       "   'solver': 'sgd'}],\n",
       " 'rank_test_score': array([25, 10, 24, 11, 12,  4, 20, 14, 18, 22, 23, 21, 17, 15,  8, 19,  5,\n",
       "         1, 13,  9,  3, 16,  7,  6,  2], dtype=int32),\n",
       " 'split0_test_score': array([0.95532596, 0.97638961, 0.96011498, 0.97603422, 0.97485951,\n",
       "        0.97683341, 0.96958429, 0.97274882, 0.96766058, 0.96737213,\n",
       "        0.96634791, 0.96564463, 0.97123746, 0.9751773 , 0.97564935,\n",
       "        0.96662967, 0.97725432, 0.97714201, 0.97524935, 0.97598108,\n",
       "        0.97632918, 0.96835821, 0.97760754, 0.97651056, 0.97719389]),\n",
       " 'split0_train_score': array([0.96069583, 0.99992579, 0.96733723, 0.99744075, 0.9998887 ,\n",
       "        0.99896166, 0.99173984, 0.99466746, 0.99116752, 0.98425429,\n",
       "        0.97360832, 0.98242635, 0.99175028, 0.99622278, 0.99640408,\n",
       "        0.98805518, 0.99781344, 0.9990728 , 0.99540605, 0.99992579,\n",
       "        0.99873934, 0.98906676, 0.99792408, 0.99977742, 0.99914704]),\n",
       " 'split1_test_score': array([0.95570028, 0.97501658, 0.96479281, 0.9760962 , 0.9758326 ,\n",
       "        0.97627268, 0.96875231, 0.97308918, 0.97062505, 0.96497709,\n",
       "        0.96581446, 0.96688447, 0.97084225, 0.96798633, 0.97564576,\n",
       "        0.96942779, 0.9759319 , 0.97665541, 0.97430233, 0.97537236,\n",
       "        0.97640573, 0.97233319, 0.97598237, 0.97634093, 0.97661765]),\n",
       " 'split1_train_score': array([0.9609347 , 0.9998516 , 0.97183508, 0.99733076, 0.99966611,\n",
       "        0.99862785, 0.9900074 , 0.99487446, 0.99200533, 0.98239385,\n",
       "        0.97393148, 0.98377094, 0.99103438, 0.99539342, 0.99617285,\n",
       "        0.9902401 , 0.99766485, 0.99885028, 0.9956306 , 0.99981449,\n",
       "        0.99873878, 0.99673397, 0.99795986, 0.99948075, 0.99870125]),\n",
       " 'split2_test_score': array([0.95357664, 0.97574998, 0.96477595, 0.97441912, 0.97503866,\n",
       "        0.97655618, 0.96679789, 0.97474302, 0.9724906 , 0.96713615,\n",
       "        0.96168272, 0.97032598, 0.97181744, 0.97251648, 0.97658372,\n",
       "        0.97051817, 0.97601408, 0.97774186, 0.97131421, 0.97599764,\n",
       "        0.97713403, 0.97330079, 0.97529048, 0.97608008, 0.97661421]),\n",
       " 'split2_train_score': array([0.95842467, 0.99988868, 0.97442446, 0.99670334, 0.99951771,\n",
       "        0.99829427, 0.98764333, 0.9962253 , 0.99241218, 0.9847818 ,\n",
       "        0.9662483 , 0.98683339, 0.99301583, 0.99532849, 0.99581094,\n",
       "        0.99028693, 0.99766502, 0.99862805, 0.9947259 , 0.9999258 ,\n",
       "        0.9984426 , 0.99406968, 0.99777547, 0.99977742, 0.99818243]),\n",
       " 'std_fit_time': array([ 3.46056927, 23.06673984, 10.46802282, 11.92103653,  0.81994809,\n",
       "        13.82344323,  1.35418828, 17.16422121, 22.51178658, 45.08678607,\n",
       "         1.80315649, 28.65066561, 27.22343734, 16.3315805 , 16.12203368,\n",
       "        22.45317884,  1.69445477,  4.1271969 , 25.35390278, 20.06971104,\n",
       "        63.01776453, 37.7637827 , 31.60890998,  2.33231911, 68.69987194]),\n",
       " 'std_score_time': array([0.00805122, 0.00775954, 0.01229692, 0.02500931, 0.00288002,\n",
       "        0.01833305, 0.01660215, 0.01649849, 0.01685025, 0.06534805,\n",
       "        0.08382266, 0.00172374, 0.03409986, 0.01889556, 0.11256193,\n",
       "        0.04341954, 0.0052709 , 0.02236827, 0.06265827, 0.00135281,\n",
       "        0.00880706, 0.01483041, 0.01961129, 0.01428115, 0.06821503]),\n",
       " 'std_test_score': array([0.00092553, 0.00056099, 0.00220126, 0.00077636, 0.00042287,\n",
       "        0.00022893, 0.00116788, 0.00087099, 0.0019888 , 0.00107773,\n",
       "        0.0020848 , 0.00198032, 0.00040048, 0.00296866, 0.0004413 ,\n",
       "        0.00163774, 0.00060498, 0.00044433, 0.00167697, 0.00029093,\n",
       "        0.00036271, 0.00213874, 0.00097119, 0.00017705, 0.00027247]),\n",
       " 'std_train_score': array([1.13114978e-03, 3.02877279e-05, 2.92810917e-03, 3.24813362e-04,\n",
       "        1.52458284e-04, 2.72457044e-04, 1.67900917e-03, 6.90770859e-04,\n",
       "        5.18185526e-04, 1.02425181e-03, 3.54817233e-03, 1.84416965e-03,\n",
       "        8.19230338e-04, 4.07133826e-04, 2.44100633e-04, 1.04119612e-03,\n",
       "        7.00041272e-05, 1.81568049e-04, 3.84638683e-04, 5.24696161e-05,\n",
       "        1.39753144e-04, 3.17829083e-03, 7.98377407e-05, 1.39848921e-04,\n",
       "        3.94179420e-04])}"
      ]
     },
     "execution_count": 18,
     "metadata": {},
     "output_type": "execute_result"
    }
   ],
   "source": [
    "random_search.cv_results_"
   ]
  },
  {
   "cell_type": "code",
   "execution_count": 19,
   "metadata": {},
   "outputs": [
    {
     "data": {
      "text/plain": [
       "MLPClassifier(activation='logistic', alpha=0.3, batch_size='auto', beta_1=0.9,\n",
       "       beta_2=0.999, early_stopping=False, epsilon=1e-08,\n",
       "       hidden_layer_sizes=(300,), learning_rate='adaptive',\n",
       "       learning_rate_init=0.001, max_iter=500, momentum=0.9,\n",
       "       nesterovs_momentum=True, power_t=0.5, random_state=None,\n",
       "       shuffle=True, solver='sgd', tol=0.0001, validation_fraction=0.1,\n",
       "       verbose=False, warm_start=False)"
      ]
     },
     "execution_count": 19,
     "metadata": {},
     "output_type": "execute_result"
    }
   ],
   "source": [
    "random_search.best_estimator_"
   ]
  },
  {
   "cell_type": "markdown",
   "metadata": {},
   "source": [
    "This gives us the best model in 25 iterations using random configurations of the selected hyperparameters:"
   ]
  },
  {
   "cell_type": "code",
   "execution_count": 20,
   "metadata": {},
   "outputs": [
    {
     "data": {
      "text/plain": [
       "MLPClassifier(activation='logistic', alpha=0.3, batch_size='auto', beta_1=0.9,\n",
       "       beta_2=0.999, early_stopping=False, epsilon=1e-08,\n",
       "       hidden_layer_sizes=(300,), learning_rate='adaptive',\n",
       "       learning_rate_init=0.001, max_iter=500, momentum=0.9,\n",
       "       nesterovs_momentum=True, power_t=0.5, random_state=None,\n",
       "       shuffle=True, solver='sgd', tol=0.0001, validation_fraction=0.1,\n",
       "       verbose=False, warm_start=False)"
      ]
     },
     "execution_count": 20,
     "metadata": {},
     "output_type": "execute_result"
    }
   ],
   "source": [
    "choosen_model = random_search.best_estimator_\n",
    "choosen_model"
   ]
  },
  {
   "cell_type": "markdown",
   "metadata": {},
   "source": [
    "Now let's save it so we don't need to run this whole process again."
   ]
  },
  {
   "cell_type": "code",
   "execution_count": 21,
   "metadata": {},
   "outputs": [
    {
     "data": {
      "text/plain": [
       "['choosen_model.pkl']"
      ]
     },
     "execution_count": 21,
     "metadata": {},
     "output_type": "execute_result"
    }
   ],
   "source": [
    "joblib.dump(choosen_model, 'choosen_model.pkl')"
   ]
  },
  {
   "cell_type": "markdown",
   "metadata": {},
   "source": [
    "And a final report on the model performance:"
   ]
  },
  {
   "cell_type": "code",
   "execution_count": 22,
   "metadata": {},
   "outputs": [
    {
     "name": "stdout",
     "output_type": "stream",
     "text": [
      "                  precision    recall  f1-score   support\n",
      "\n",
      "regular_encouter       0.99      0.99      0.99      3403\n",
      "       head_head       1.00      1.00      1.00     20213\n",
      "\n",
      "     avg / total       1.00      1.00      1.00     23616\n",
      "\n"
     ]
    }
   ],
   "source": [
    "y_predicted = choosen_model.predict(X_train)\n",
    "print(classification_report(y_train, y_predicted, target_names=['regular_encouter', 'head_head']))"
   ]
  },
  {
   "cell_type": "markdown",
   "metadata": {},
   "source": [
    "#### Evaluating Model on Test Set"
   ]
  },
  {
   "cell_type": "markdown",
   "metadata": {},
   "source": [
    "Let's now check the performance of the model in data it hasn't previously seen and if everything looks fine, deploy it:"
   ]
  },
  {
   "cell_type": "code",
   "execution_count": 23,
   "metadata": {},
   "outputs": [
    {
     "data": {
      "text/plain": [
       "'                   precision    recall  f1-score   support\\n\\nregular_encounter       0.91      0.82      0.86       893\\n        head_head       0.97      0.98      0.98      5011\\n\\n      avg / total       0.96      0.96      0.96      5904\\n'"
      ]
     },
     "execution_count": 23,
     "metadata": {},
     "output_type": "execute_result"
    }
   ],
   "source": [
    "X_test = scaler.transform(X_test)\n",
    "y_test_predicted = choosen_model.predict(X_test)\n",
    "classification_report(y_test, y_test_predicted, target_names=['regular_encounter', 'head_head'])"
   ]
  }
 ],
 "metadata": {
  "kernelspec": {
   "display_name": "Python 3",
   "language": "python",
   "name": "python3"
  },
  "language_info": {
   "codemirror_mode": {
    "name": "ipython",
    "version": 3
   },
   "file_extension": ".py",
   "mimetype": "text/x-python",
   "name": "python",
   "nbconvert_exporter": "python",
   "pygments_lexer": "ipython3",
   "version": "3.5.2"
  }
 },
 "nbformat": 4,
 "nbformat_minor": 2
}
