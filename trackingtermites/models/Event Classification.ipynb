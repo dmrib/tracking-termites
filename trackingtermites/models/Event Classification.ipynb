{
 "cells": [
  {
   "cell_type": "markdown",
   "metadata": {},
   "source": [
    "## Event Classification"
   ]
  },
  {
   "cell_type": "markdown",
   "metadata": {},
   "source": [
    "#### Import Packages"
   ]
  },
  {
   "cell_type": "code",
   "execution_count": 1,
   "metadata": {},
   "outputs": [],
   "source": [
    "%matplotlib inline\n",
    "\n",
    "import warnings\n",
    "warnings.filterwarnings(\"ignore\")\n",
    "\n",
    "import glob\n",
    "import matplotlib.pyplot as plt\n",
    "import numpy as np\n",
    "import skimage.io as io\n",
    "\n",
    "from sklearn.metrics import confusion_matrix, precision_score, recall_score, classification_report, accuracy_score\n",
    "from sklearn.preprocessing import StandardScaler\n",
    "from sklearn.model_selection import ShuffleSplit, cross_val_score, cross_val_predict, train_test_split, RandomizedSearchCV\n",
    "from sklearn.neural_network import MLPClassifier\n",
    "from sklearn.ensemble import RandomForestClassifier\n",
    "from sklearn.svm import SVC\n",
    "from sklearn.neighbors import KNeighborsClassifier\n",
    "from sklearn.externals import joblib"
   ]
  },
  {
   "cell_type": "markdown",
   "metadata": {},
   "source": [
    "#### Load Datasets"
   ]
  },
  {
   "cell_type": "markdown",
   "metadata": {},
   "source": [
    "First we load the images from the label folders:"
   ]
  },
  {
   "cell_type": "code",
   "execution_count": 2,
   "metadata": {},
   "outputs": [],
   "source": [
    "head_head = io.ImageCollection('../data/Dataset/head-head/*.jpg')\n",
    "regular_encounter = io.ImageCollection('../data/Dataset/regular-encounter/*.jpg')"
   ]
  },
  {
   "cell_type": "markdown",
   "metadata": {},
   "source": [
    "You can check if everything is alright by inspecting the first element of each image collection:"
   ]
  },
  {
   "cell_type": "code",
   "execution_count": 3,
   "metadata": {},
   "outputs": [
    {
     "data": {
      "image/png": "[encoded data removed]",
      "text/plain": [
       "<matplotlib.figure.Figure at 0x7f857ceba6d8>"
      ]
     },
     "metadata": {},
     "output_type": "display_data"
    }
   ],
   "source": [
    "figure, axis = plt.subplots(1,2)\n",
    "\n",
    "axis[0].imshow(head_head[0])\n",
    "axis[0].set_title('head-head')\n",
    "axis[1].imshow(regular_encounter[0])\n",
    "axis[1].set_title('regular-encounter')\n",
    "\n",
    "plt.show()"
   ]
  },
  {
   "cell_type": "markdown",
   "metadata": {},
   "source": [
    "Now let's concatenate the images in a single matrix, our dataset:"
   ]
  },
  {
   "cell_type": "code",
   "execution_count": null,
   "metadata": {},
   "outputs": [],
   "source": [
    "dataset = io.ImageCollection.concatenate(np.vstack((head_head, regular_encounter)))\n",
    "dataset.shape"
   ]
  },
  {
   "cell_type": "markdown",
   "metadata": {},
   "source": [
    "And unroll at image as a single row in the dataset matrix:"
   ]
  },
  {
   "cell_type": "code",
   "execution_count": null,
   "metadata": {},
   "outputs": [],
   "source": [
    "dataset = dataset.reshape(dataset.shape[0], -1)\n",
    "dataset.shape"
   ]
  },
  {
   "cell_type": "markdown",
   "metadata": {},
   "source": [
    "We also must create a target vector, containing the encoded class of each image:"
   ]
  },
  {
   "cell_type": "code",
   "execution_count": null,
   "metadata": {},
   "outputs": [],
   "source": [
    "targets = np.zeros(dataset.shape[0])\n",
    "targets[:len(head_head)] = 0\n",
    "targets[len(head_head):] = 1\n",
    "targets.shape"
   ]
  },
  {
   "cell_type": "markdown",
   "metadata": {},
   "source": [
    "Finally we have our examples and targets in separated, indexed arrays:"
   ]
  },
  {
   "cell_type": "code",
   "execution_count": null,
   "metadata": {},
   "outputs": [],
   "source": [
    "X, y = dataset, targets"
   ]
  },
  {
   "cell_type": "markdown",
   "metadata": {},
   "source": [
    "We then shuffle the data:"
   ]
  },
  {
   "cell_type": "code",
   "execution_count": null,
   "metadata": {},
   "outputs": [],
   "source": [
    "shuffled_indices = np.random.permutation(dataset.shape[0])\n",
    "X = X[shuffled_indices]\n",
    "y = y[shuffled_indices]"
   ]
  },
  {
   "cell_type": "markdown",
   "metadata": {},
   "source": [
    "And for later reporting purposes we separate a training and test sets, in a 80/20% ratio:"
   ]
  },
  {
   "cell_type": "code",
   "execution_count": null,
   "metadata": {},
   "outputs": [],
   "source": [
    "X_train, X_test, y_train, y_test = train_test_split(X, y, test_size=0.2, random_state=42)\n",
    "X_train"
   ]
  },
  {
   "cell_type": "markdown",
   "metadata": {},
   "source": [
    "#### Training a Pilot Model"
   ]
  },
  {
   "cell_type": "markdown",
   "metadata": {},
   "source": [
    "To check if learning algorithms are really capable of correctly classify the termites' interactions, first we decided to train a quick and dirty model, namely a random forest tree classifier:"
   ]
  },
  {
   "cell_type": "code",
   "execution_count": null,
   "metadata": {},
   "outputs": [],
   "source": [
    "classifier = RandomForestClassifier(random_state=42, n_jobs=-1)\n",
    "shuffle_split = ShuffleSplit(n_splits=3, test_size=0.20, train_size=0.80, random_state=42)\n",
    "scores = cross_val_score(estimator=classifier, X=X_train, y=y_train, cv=shuffle_split, n_jobs=-1)\n",
    "scores"
   ]
  },
  {
   "cell_type": "markdown",
   "metadata": {},
   "source": [
    "The model clearly was able to fit the dataset, so we took this as a indication to proceed."
   ]
  },
  {
   "cell_type": "markdown",
   "metadata": {},
   "source": [
    "#### Preprocessing Data"
   ]
  },
  {
   "cell_type": "markdown",
   "metadata": {},
   "source": [
    "Many algorithms expect that the input dataset have zero mean and variance within the same order, and since these characteristics speed up the model convergence, we'll preprocess the data using mean normalization and feature scaling. We must keep the scaler object so it can be applied in new examples when predicting our events classes.\n"
   ]
  },
  {
   "cell_type": "code",
   "execution_count": null,
   "metadata": {},
   "outputs": [],
   "source": [
    "scaler = StandardScaler(with_mean=True, with_std=True).fit(X_train)\n",
    "X_train = scaler.transform(X_train)"
   ]
  },
  {
   "cell_type": "markdown",
   "metadata": {},
   "source": [
    "#### Select The Most Promising Model"
   ]
  },
  {
   "cell_type": "markdown",
   "metadata": {},
   "source": [
    "Now we should try some models and see which is more promising:"
   ]
  },
  {
   "cell_type": "markdown",
   "metadata": {},
   "source": [
    "- Random Forest Trees"
   ]
  },
  {
   "cell_type": "code",
   "execution_count": null,
   "metadata": {},
   "outputs": [],
   "source": [
    "rf_classifier = RandomForestClassifier(random_state=42)\n",
    "shuffle_split = ShuffleSplit(n_splits=3, test_size=0.20, train_size=0.80, random_state=42)\n",
    "scores = cross_val_score(estimator=rf_classifier, X=X_train, y=y_train, cv=shuffle_split, n_jobs=-1, scoring='f1')\n",
    "print('Scores: ', scores)\n",
    "print('Mean: ', scores.mean())\n",
    "print('Standard deviation: ', scores.std())"
   ]
  },
  {
   "cell_type": "markdown",
   "metadata": {},
   "source": [
    "- Neural Networks"
   ]
  },
  {
   "cell_type": "code",
   "execution_count": null,
   "metadata": {},
   "outputs": [],
   "source": [
    "mlp_classifier = MLPClassifier(random_state=42)\n",
    "shuffle_split = ShuffleSplit(n_splits=3, test_size=0.20, train_size=0.80, random_state=42)\n",
    "scores = cross_val_score(estimator=mlp_classifier, X=X_train, y=y_train, cv=shuffle_split, n_jobs=-1, scoring='f1')\n",
    "print('Scores: ', scores)\n",
    "print('Mean: ', scores.mean())\n",
    "print('Standard deviation: ', scores.std())"
   ]
  },
  {
   "cell_type": "markdown",
   "metadata": {},
   "source": [
    "- Support Vector Machines"
   ]
  },
  {
   "cell_type": "code",
   "execution_count": null,
   "metadata": {},
   "outputs": [],
   "source": [
    "svc_classifier = SVC(random_state=42)\n",
    "shuffle_split = ShuffleSplit(n_splits=3, test_size=0.20, train_size=0.80, random_state=42)\n",
    "scores = cross_val_score(estimator=svc_classifier, X=X_train, y=y_train, cv=shuffle_split, n_jobs=-1, scoring='f1')\n",
    "print('Scores: ', scores)\n",
    "print('Mean: ', scores.mean())\n",
    "print('Standard deviation: ', scores.std())"
   ]
  },
  {
   "cell_type": "markdown",
   "metadata": {},
   "source": [
    "- K Neighbors"
   ]
  },
  {
   "cell_type": "code",
   "execution_count": null,
   "metadata": {},
   "outputs": [],
   "source": [
    "knn_classifier = KNeighborsClassifier()\n",
    "shuffle_split = ShuffleSplit(n_splits=3, test_size=0.20, train_size=0.80, random_state=42)\n",
    "scores = cross_val_score(estimator=knn_classifier, X=X_train, y=y_train, cv=shuffle_split, n_jobs=-1, scoring='f1')\n",
    "print('Scores: ', scores)\n",
    "print('Mean: ', scores.mean())\n",
    "print('Standard deviation: ', scores.std())"
   ]
  },
  {
   "cell_type": "markdown",
   "metadata": {},
   "source": [
    "We can see that the models achieved very similar results, but differently than the others, neural networks can be further scaled with the addition of convolutional or block layers, so it is our model of choice."
   ]
  },
  {
   "cell_type": "markdown",
   "metadata": {},
   "source": [
    "\n",
    "#### Model Fine Tuning"
   ]
  },
  {
   "cell_type": "markdown",
   "metadata": {},
   "source": [
    "Since we've selected our model, now we can fiddle with hyperparameters."
   ]
  },
  {
   "cell_type": "code",
   "execution_count": null,
   "metadata": {},
   "outputs": [],
   "source": [
    "parameters = {\n",
    "                \"hidden_layer_sizes\": [(100,), (300,), (500,)],\n",
    "                \"activation\": ['relu', 'logistic'],\n",
    "                \"solver\": ['sgd', 'adam'],\n",
    "                \"alpha\": [0.0001, 0.0003, 0.001, 0.003, 0.01, 0.03, 0.1, 0.3, 1],\n",
    "                \"learning_rate\": ['constant', 'adaptive'],\n",
    "                \"max_iter\": [100, 300, 500]\n",
    "             }"
   ]
  },
  {
   "cell_type": "code",
   "execution_count": null,
   "metadata": {},
   "outputs": [],
   "source": [
    "random_search = RandomizedSearchCV(MLPClassifier(), parameters, n_iter=25, scoring='f1', random_state=42)\n",
    "random_search.fit(X_train, y_train)"
   ]
  },
  {
   "cell_type": "code",
   "execution_count": null,
   "metadata": {},
   "outputs": [],
   "source": [
    "random_search.cv_results_"
   ]
  },
  {
   "cell_type": "code",
   "execution_count": null,
   "metadata": {},
   "outputs": [],
   "source": [
    "random_search.best_estimator_"
   ]
  },
  {
   "cell_type": "markdown",
   "metadata": {},
   "source": [
    "This gives us the best model in 25 iterations using random configurations of the selected hyperparameters:"
   ]
  },
  {
   "cell_type": "code",
   "execution_count": null,
   "metadata": {},
   "outputs": [],
   "source": [
    "choosen_model = random_search.best_estimator_\n",
    "choosen_model"
   ]
  },
  {
   "cell_type": "markdown",
   "metadata": {},
   "source": [
    "Now let's save it so we don't need to run this whole process again."
   ]
  },
  {
   "cell_type": "code",
   "execution_count": null,
   "metadata": {},
   "outputs": [],
   "source": [
    "joblib.dump(choosen_model, 'choosen_model.pkl')"
   ]
  },
  {
   "cell_type": "markdown",
   "metadata": {},
   "source": [
    "And a final report on the model performance:"
   ]
  },
  {
   "cell_type": "code",
   "execution_count": null,
   "metadata": {},
   "outputs": [],
   "source": [
    "y_predicted = choosen_model.predict(X_train)\n",
    "print(classification_report(y_train, y_predicted, target_names=['regular_encouter', 'head_head']))"
   ]
  },
  {
   "cell_type": "markdown",
   "metadata": {},
   "source": [
    "#### Evaluating Model on Test Set"
   ]
  },
  {
   "cell_type": "markdown",
   "metadata": {},
   "source": [
    "Let's now check the performance of the model in data it hasn't previously seen and if everything looks fine, deploy it:"
   ]
  },
  {
   "cell_type": "code",
   "execution_count": null,
   "metadata": {},
   "outputs": [],
   "source": [
    "X_test = scaler.transform(X_test)\n",
    "y_test_predicted = choosen_model.predict(X_test)\n",
    "classification_report(y_test, y_test_predicted, target_names=['regular_encounter', 'head_head'])"
   ]
  }
 ],
 "metadata": {
  "kernelspec": {
   "display_name": "Python 3",
   "language": "python",
   "name": "python3"
  },
  "language_info": {
   "codemirror_mode": {
    "name": "ipython",
    "version": 3
   },
   "file_extension": ".py",
   "mimetype": "text/x-python",
   "name": "python",
   "nbconvert_exporter": "python",
   "pygments_lexer": "ipython3",
   "version": "3.5.2"
  }
 },
 "nbformat": 4,
 "nbformat_minor": 2
}
