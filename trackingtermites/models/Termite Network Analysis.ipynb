{
 "cells": [
  {
   "cell_type": "markdown",
   "metadata": {},
   "source": [
    "#### Loading Libraries"
   ]
  },
  {
   "cell_type": "code",
   "execution_count": 29,
   "metadata": {},
   "outputs": [],
   "source": [
    "%matplotlib inline\n",
    "\n",
    "import glob\n",
    "import networkx as nx\n",
    "import pandas as pd"
   ]
  },
  {
   "cell_type": "markdown",
   "metadata": {},
   "source": [
    "#### Load Dataset"
   ]
  },
  {
   "cell_type": "markdown",
   "metadata": {},
   "source": [
    "The Nest class in the *termite* module provides tools for preprocessing a tracking result dataset, we'll assume that the data was generated using this process from now on."
   ]
  },
  {
   "cell_type": "markdown",
   "metadata": {},
   "source": [
    "Let's proceed to load the data then..."
   ]
  },
  {
   "cell_type": "code",
   "execution_count": 2,
   "metadata": {},
   "outputs": [],
   "source": [
    "def load_dataset(datapath):\n",
    "    dataset = []\n",
    "    for table in sorted(glob.glob(datapath)):\n",
    "        dataset.append(pd.read_csv(table))\n",
    "    return dataset\n",
    "\n",
    "dataset = load_dataset('../data/Clustering/expanded/*.csv')"
   ]
  },
  {
   "cell_type": "markdown",
   "metadata": {},
   "source": [
    "This gives us a list of Pandas dataframes containg each termite data, from now on we can further investigate the underlying structure of termite self organization."
   ]
  },
  {
   "cell_type": "markdown",
   "metadata": {},
   "source": [
    "#### Instant Encounter Graph"
   ]
  },
  {
   "cell_type": "markdown",
   "metadata": {},
   "source": [
    "To get a better intuition over how to represent the termites' network, let's first build a graph showing the encounters of a termite in a given frame. We'll do this in very generalized way so we can come back and use this code in the future if it's necessary."
   ]
  },
  {
   "cell_type": "code",
   "execution_count": 25,
   "metadata": {},
   "outputs": [],
   "source": [
    "def build_encounter_graph(focal_termite, frame):\n",
    "    frame_data = dataset[focal_termite].loc[frame]\n",
    "    G = nx.Graph()\n",
    "    G.add_node(focal_termite+1)\n",
    "    for termite_number in range(1, len(dataset)+1):\n",
    "        if termite_number-1 != focal_termite:\n",
    "            if frame_data.loc['interaction_with_t{}'.format(termite_number)] != 'no-interaction':\n",
    "                G.add_node(termite_number)\n",
    "                G.add_edge(focal_termite+1 ,termite_number)\n",
    "    return G    "
   ]
  },
  {
   "cell_type": "markdown",
   "metadata": {},
   "source": [
    "Now we can retrieve the encounters of a focal termite specifying his position in the *dataset* list and which frame should be investigated, for example, let's check the encounter of the termite with label *t1* (position zero in the dataset list) in the 100th frame:"
   ]
  },
  {
   "cell_type": "code",
   "execution_count": 32,
   "metadata": {},
   "outputs": [],
   "source": [
    "encounters = build_encounter_graph(0, 50000)"
   ]
  },
  {
   "cell_type": "code",
   "execution_count": 33,
   "metadata": {},
   "outputs": [
    {
     "data": {
      "image/png": "[encoded data removed]",
      "text/plain": [
       "<matplotlib.figure.Figure at 0x7fa64829c1d0>"
      ]
     },
     "metadata": {},
     "output_type": "display_data"
    }
   ],
   "source": [
    "nx.draw(encounters, with_labels=True)"
   ]
  },
  {
   "cell_type": "code",
   "execution_count": null,
   "metadata": {},
   "outputs": [],
   "source": []
  }
 ],
 "metadata": {
  "kernelspec": {
   "display_name": "Python 3",
   "language": "python",
   "name": "python3"
  },
  "language_info": {
   "codemirror_mode": {
    "name": "ipython",
    "version": 3
   },
   "file_extension": ".py",
   "mimetype": "text/x-python",
   "name": "python",
   "nbconvert_exporter": "python",
   "pygments_lexer": "ipython3",
   "version": "3.5.2"
  }
 },
 "nbformat": 4,
 "nbformat_minor": 2
}
